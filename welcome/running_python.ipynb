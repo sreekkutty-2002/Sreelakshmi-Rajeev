{
  "cells": [
    {
      "cell_type": "markdown",
      "metadata": {
        "id": "hJadVLRFwM9A"
      },
      "source": [
        "\n",
        "<center>\n",
        "<table>\n",
        "  <tr>\n",
        "    <td><img src=\"http://www.nasa.gov/sites/all/themes/custom/nasatwo/images/nasa-logo.svg\" width=\"100\"/> </td>\n",
        "     <td><img src=\"https://github.com/astg606/py_materials/blob/master/logos/ASTG_logo.png?raw=true\" width=\"80\"/> </td>\n",
        "     <td> <img src=\"https://www.nccs.nasa.gov/sites/default/files/NCCS_Logo_0.png\" width=\"130\"/> </td>\n",
        "    </tr>\n",
        "</table>\n",
        "</center>\n",
        "\n",
        "        \n",
        "<center>\n",
        "<h1><font color= \"blue\" size=\"+3\">ASTG Python Courses</font></h1>\n",
        "</center>\n",
        "\n",
        "\n",
        "---\n",
        "\n",
        "<center><h1>\n",
        "    <font color=\"red\" size=\"+2\">Running Python</font>  \n",
        "</h1></center>"
      ]
    },
    {
      "cell_type": "markdown",
      "metadata": {
        "id": "HTUV1TxtwM9G"
      },
      "source": [
        "# <font color='blue'>Why Learn Python?</font>\n",
        "\n",
        "---\n",
        "\n",
        "* Is a free and open-source.\n",
        "* Is a high-level and interpreted general purpose programming language.\n",
        "* Its simple syntax makes it suitable for learning programming as a first language.\n",
        "* Has a very extensive standard library and over 150,000 external libraries.\n",
        "* Is portable and extensible. It interoprate with other languages such as Fortran, C, C++, Java,...\n",
        "* Has a large community.\n",
        "\n",
        "**Benefits of Learning Python**\n",
        "\n",
        "![fig_python](https://static.javatpoint.com/interview/images/advantages-of-python.png)\n",
        "Image Source: www.javatpoint.com\n",
        "\n",
        "Python finds applications in areas such as:\n",
        "\n",
        "+ Web Programming\n",
        "+ Data Science\n",
        "+ Machine Learning and Artificial Intelligence\n",
        "+ Scripting & Automation\n",
        "+ Games\n",
        "+ Desktop GUI applications\n",
        "+ Database access\n",
        "          \n",
        "![fig_python](https://hackernoon.com/hn-images/1*jVKTE1dd8CVv4WEtcidCPA.png)"
      ]
    },
    {
      "cell_type": "code",
      "source": [
        "\n",
        "import numpy as np\n",
        "import pandas as pd\n",
        "\n",
        "# For reproducibility\n",
        "np.random.seed(42)\n",
        "\n",
        "# Simulating 1000 production samples\n",
        "n_samples = 1000\n",
        "\n",
        "data = pd.DataFrame({\n",
        "    'temperature': np.random.normal(300, 10, n_samples),        # Process temperature\n",
        "    'pressure': np.random.normal(1.0, 0.1, n_samples),          # Chamber pressure\n",
        "    'etch_time': np.random.normal(50, 5, n_samples),            # Etching time\n",
        "    'defect_density': np.random.exponential(0.1, n_samples),    # Defect density on wafer\n",
        "})\n",
        "\n",
        "# Simulated yield percentage (higher defects and wrong etch time = lower yield)\n",
        "data['yield'] = 100 - (data['defect_density'] * 100 + ((data['etch_time'] - 50) ** 2) * 0.3)\n",
        "data['yield'] = np.clip(data['yield'], 0, 100)  # Clamp between 0 and 100\n",
        "\n",
        "print(data.head())\n",
        "\n",
        "from sklearn.model_selection import train_test_split\n",
        "from sklearn.preprocessing import StandardScaler\n",
        "\n",
        "# Split features and target\n",
        "X = data.drop('yield', axis=1)\n",
        "y = data['yield']\n",
        "\n",
        "# Train-test split (80% train, 20% test)\n",
        "X_train, X_test, y_train, y_test = train_test_split(X, y, test_size=0.2, random_state=42)\n",
        "\n",
        "# Standardization\n",
        "scaler = StandardScaler()\n",
        "X_train_scaled = scaler.fit_transform(X_train)\n",
        "X_test_scaled = scaler.transform(X_test)\n",
        "from sklearn.ensemble import RandomForestRegressor\n",
        "from sklearn.metrics import mean_absolute_error, r2_score\n",
        "\n",
        "# Initialize and train the model\n",
        "model = RandomForestRegressor(n_estimators=100, random_state=42)\n",
        "model.fit(X_train_scaled, y_train)\n",
        "\n",
        "# Predict on test data\n",
        "y_pred = model.predict(X_test_scaled)\n",
        "\n",
        "# Evaluate\n",
        "print(\"Mean Absolute Error:\", mean_absolute_error(y_test, y_pred))\n",
        "print(\"R² Score:\", r2_score(y_test, y_pred))\n",
        "import matplotlib.pyplot as plt\n",
        "\n",
        "# Feature importance from the model\n",
        "importances = model.feature_importances_\n",
        "feature_names = X.columns\n",
        "\n",
        "# Plotting\n",
        "plt.figure(figsize=(8, 4))\n",
        "plt.barh(feature_names, importances, color='skyblue')\n",
        "plt.xlabel(\"Importance\")\n",
        "plt.title(\"Feature Importance in Yield Prediction\")\n",
        "plt.tight_layout()\n",
        "plt.show()\n",
        "# Binary classification target: High yield (> 90%) vs Low\n",
        "data['yield_class'] = (data['yield'] > 90).astype(int)\n",
        "\n",
        "# Replace y with classification target and repeat the pipeline using RandomForestClassifier\n",
        "\n"
      ],
      "metadata": {
        "id": "hxjow0c1wS21",
        "outputId": "83813924-3e97-4452-a449-788ea67f29a6",
        "colab": {
          "base_uri": "https://localhost:8080/",
          "height": 644
        }
      },
      "execution_count": 4,
      "outputs": [
        {
          "output_type": "stream",
          "name": "stdout",
          "text": [
            "Requirement already satisfied: scikit-learn in /usr/local/lib/python3.11/dist-packages (1.6.1)\n",
            "Requirement already satisfied: numpy>=1.19.5 in /usr/local/lib/python3.11/dist-packages (from scikit-learn) (2.0.2)\n",
            "Requirement already satisfied: scipy>=1.6.0 in /usr/local/lib/python3.11/dist-packages (from scikit-learn) (1.14.1)\n",
            "Requirement already satisfied: joblib>=1.2.0 in /usr/local/lib/python3.11/dist-packages (from scikit-learn) (1.4.2)\n",
            "Requirement already satisfied: threadpoolctl>=3.1.0 in /usr/local/lib/python3.11/dist-packages (from scikit-learn) (3.6.0)\n",
            "   temperature  pressure  etch_time  defect_density      yield\n",
            "0   304.967142  1.139936  46.624109        0.170782  79.502766\n",
            "1   298.617357  1.092463  49.277407        0.410848  58.758594\n",
            "2   306.476885  1.005963  46.037900        0.030066  92.283926\n",
            "3   315.230299  0.935306  48.460192        0.349739  64.314819\n",
            "4   297.658466  1.069822  40.531927        0.056429  67.463817\n",
            "Mean Absolute Error: 0.9715477698675467\n",
            "R² Score: 0.9668443336815102\n"
          ]
        },
        {
          "output_type": "display_data",
          "data": {
            "text/plain": [
              "<Figure size 800x400 with 1 Axes>"
            ],
            "image/png": "[encoded data removed]"
          },
          "metadata": {}
        }
      ]
    },
    {
      "cell_type": "markdown",
      "metadata": {
        "id": "l2lE3hI-wM9I"
      },
      "source": [
        "# <font color='blue'> Python Versions</font>\n",
        "\n",
        "----\n",
        "\n",
        "Python has two major versions:\n",
        "\n",
        "+ **2.x**: Released in 2000. The latest version is 2.7 released in 2010. __It is not recommended for use in new projects__.\n",
        "+ **3.x**: Released in 2008 to fix problems that exist in Python 2.x.\n",
        "   - The nature of these changes is such that Python 3 was incompatible with Python 2. It is backward incompatible.\n",
        "   - Python 3 isn’t compatible with Python 2.\n",
        "   - You should use the latest versions of Python 3 for your new projects.\n",
        "\n",
        "**For this class, we will use Python 3.x.**"
      ]
    },
    {
      "cell_type": "markdown",
      "metadata": {
        "id": "b3rQz_ogwM9J"
      },
      "source": [
        "# <font color='blue'>Ways to Run Python</font>\n",
        "\n",
        "---\n",
        "We want to introduce four ways to run Python:\n",
        "\n",
        "* Interactive Command Line through `python`\n",
        "* Interactive Command Line through `ipython`\n",
        "* Scripting\n",
        "* Jupyter Notebook\n"
      ]
    },
    {
      "cell_type": "markdown",
      "metadata": {
        "id": "Xv9bFZarwM9J"
      },
      "source": [
        "You first need to make sure that Python is install on your system.\n",
        "With Linux/Unix systems, a default Python interpreter comes with the operating system. To test this, from the terminal type:\n",
        "\n",
        "`which python`\n",
        "\n",
        "and you will see something like:\n",
        "\n",
        "`/usr/bin/python`\n"
      ]
    },
    {
      "cell_type": "markdown",
      "metadata": {
        "id": "f5QbdZC7wM9K"
      },
      "source": [
        "### <font color='red'> Interactive Command Line through `python` </font>\n",
        "\n",
        "---\n",
        "\n",
        "* You can use the interpreter in the interactive mode to test some commands.\n",
        "* You need to type `python` from the command line.\n",
        "* You can directly type in Python code, and press `Enter` to get the output.\n",
        "* You can exit the interactive mode with `quit()` or `exit` command or `^Ctrl + D`.\n",
        "* The sequence you enter will not be saved if you close the current session."
      ]
    },
    {
      "cell_type": "markdown",
      "metadata": {
        "id": "B8nGQQlRwM9K"
      },
      "source": [
        "**Sample Session**\n",
        "\n",
        "1. Open your terminal/Anaconda prompt and type:\n",
        "\n",
        "`python`\n",
        "\n",
        "\n",
        "2. From this interactive shell, you will notice that the prompt is `>>>`. This is now allowing us to type Python code directly and execute it.\n",
        "\n",
        "3. Now type:\n",
        "\n",
        "`print('Hello world!')`\n",
        "\n",
        "4. You should see the output on the screen.\n",
        "\n",
        "5. To exit the Python shell type `exit()` and press `Return` key.\n",
        "\n"
      ]
    },
    {
      "cell_type": "markdown",
      "metadata": {
        "id": "OJp7HpRRwM9L"
      },
      "source": [
        "### <font color='red'>Interactive Command Line through `ipython` </font>\n",
        "\n",
        "---\n",
        "* IPython is an interactive shell for the Python programming language that offers enhanced introspection, additional shell syntax, tab completion and rich history.\n",
        "* It does not come by default with Python.\n",
        "* IPython gives you all that you get in the basic interpreter but with a lot extra (line numbers, advanced editing, more functions, help functions etc).\n",
        "* It can be started by typing `ipython` at the command line.\n",
        "* The main aesthetic difference between the Python interpreter and the enhanced IPython interpreter lies in the command prompt: Python uses `>>>` by default, while IPython uses numbered commands (e.g. `In [1]:`)."
      ]
    },
    {
      "cell_type": "markdown",
      "metadata": {
        "id": "mHWjEUGVwM9L"
      },
      "source": [
        "**Sample Session**\n",
        "\n",
        "1. Open your terminal/Anaconda prompt and type:\n",
        "\n",
        "`ipython`\n",
        "\n",
        "2. This is an enhanced interactive shell that has many features (tab-completion, woot!). It also has a prompt that is numbered.\n",
        "\n",
        "3. Now type:\n",
        "\n",
        "`print('Hello world!')`\n",
        "\n",
        "4. You should see the output on the screen.\n",
        "\n",
        "5. To exit the Python shell type `exit()` and press `Return` key."
      ]
    },
    {
      "cell_type": "markdown",
      "metadata": {
        "id": "75H0N0wMwM9M"
      },
      "source": [
        "### <font color='red'> Scripting </font>\n",
        "\n",
        "---\n",
        "* Real Python programs are made as scripts and look like simple text files.\n",
        "* These files are given extensions `.py`.\n",
        "* You can create text files using whatever text editor you like.\n",
        "* To run the script you need to use the programming language interpreter and specify the name of the created file as an additional parameter:\n",
        "\n",
        "```\n",
        "       %python my_python_file.py\n",
        "```"
      ]
    },
    {
      "cell_type": "markdown",
      "metadata": {
        "id": "WaJb03oBwM9M"
      },
      "source": [
        "**Sample Session**\n",
        "\n",
        "1. Start a new ASCII/text document named `helloworld.py` and enter the following text:\n",
        "\n",
        "`print('Hello world!')`\n",
        "\n",
        "2. Save the document and then in your terminal/Anaconda prompt, go to the directory containing the newlt created file.\n",
        "\n",
        "\n",
        "3. From the terminal/Anaconda prompt, type:\n",
        "\n",
        "`python helloworld.py`\n",
        "\n",
        "4. You should see the output on the screen."
      ]
    },
    {
      "cell_type": "markdown",
      "metadata": {
        "id": "G95JKvu8wM9N"
      },
      "source": [
        "### <font color='red'> Jupyter Notebook </font>\n",
        "\n",
        "---\n",
        "* A useful hybrid of the interactive terminal and the self-contained script is the Jupyter notebook, a document format that allows executable code, formatted text, graphics, and even interactive features to be combined into a single document.\n",
        "* Though the notebook began as a Python-only format, it has since been made compatible with a large number of programming languages.\n",
        "* The notebook is useful both as a development environment, and as a means of sharing work via rich computational and data-driven narratives that mix together code, figures, data, and text.\n"
      ]
    },
    {
      "cell_type": "markdown",
      "metadata": {
        "id": "qMu-ao8qwM9N"
      },
      "source": [
        "**Sample Session**\n",
        "\n",
        "1. Open your terminal/Anaconda Prompt and type:\n",
        "\n",
        "`jupyter notebook`\n",
        "\n",
        "2. This directs you to a web browser and you can navigate to an already existing notebook or create one (right side menu New -> Python 3).\n",
        "\n",
        "3. This will open up a new Untitled notebook where you can directly input Python code, Markup formatted text, or have raw text.\n",
        "\n",
        "4. Now type:\n",
        "\n",
        "`print('Hello world!')`\n",
        "\n",
        "5. Press `Shift+Enter`, `Cntrl+Enter` or click `Cells -> Run Cells` or use the `Play` button near the top of the page.\n",
        "\n",
        "6. You should see the output on the screen.\n",
        "\n",
        "7. Exit via closing the browser windows and stopping the server running in the terminal/command prompt (most likely with a Cntrl+C)."
      ]
    },
    {
      "cell_type": "markdown",
      "metadata": {
        "id": "w2KSPOf-wM9N"
      },
      "source": [
        "## <font color='red'>Other Ways</font>\n",
        "\n",
        "* [10 Best Python IDE & Code Editors](https://hackr.io/blog/best-python-ide)\n",
        "* [Python IDEs and Code Editors (Guide)](https://realpython.com/python-ides-code-editors-guide/)\n",
        "* [Google Colaboratory](http://colab.research.google.com)\n",
        "* [Binder](http://mybinder.org)\n",
        "* [Microsoft Azure](http://notebooks.azure.com)"
      ]
    },
    {
      "cell_type": "markdown",
      "metadata": {
        "id": "MVfeD6FJwM9N"
      },
      "source": [
        "# <font color='blue'>References</font>\n",
        "\n",
        "* [How to Run Python Code](https://jakevdp.github.io/WhirlwindTourOfPython/01-how-to-run-python-code.html)\n",
        "* [How To Run Your Python Scripts](https://www.knowledgehut.com/blog/programming/run-python-scripts)\n",
        "* [Getting Started with Python in Visual Studio Code](https://code.visualstudio.com/docs/python/python-tutorial)\n",
        "* [How to Run a Python Script on Mac](https://www.maketecheasier.com/run-python-script-in-mac/)\n",
        "* [Running Python Scripts from anywhere under Windows](https://correlated.kayako.com/article/40-running-python-scripts-from-anywhere-under-windows)"
      ]
    }
  ],
  "metadata": {
    "celltoolbar": "Slideshow",
    "kernelspec": {
      "display_name": "Python 3 (ipykernel)",
      "language": "python",
      "name": "python3"
    },
    "language_info": {
      "codemirror_mode": {
        "name": "ipython",
        "version": 3
      },
      "file_extension": ".py",
      "mimetype": "text/x-python",
      "name": "python",
      "nbconvert_exporter": "python",
      "pygments_lexer": "ipython3",
      "version": "3.8.2"
    },
    "colab": {
      "provenance": []
    }
  },
  "nbformat": 4,
  "nbformat_minor": 0
}